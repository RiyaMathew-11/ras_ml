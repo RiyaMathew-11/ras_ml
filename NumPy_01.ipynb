{
 "cells": [
  {
   "cell_type": "code",
   "execution_count": 37,
   "id": "c8c19d0e",
   "metadata": {},
   "outputs": [],
   "source": [
    "import numpy as np\n",
    "import pandas as pd\n",
    "import sys\n",
    "import time"
   ]
  },
  {
   "cell_type": "markdown",
   "id": "b0e80371",
   "metadata": {},
   "source": [
    "Comparing NumPy arrays and Python size"
   ]
  },
  {
   "cell_type": "code",
   "execution_count": 23,
   "id": "19969d94",
   "metadata": {},
   "outputs": [
    {
     "name": "stdout",
     "output_type": "stream",
     "text": [
      "28000\n"
     ]
    }
   ],
   "source": [
    "l = range(1000)\n",
    "x = sys.getsizeof(1000)*len(l)\n",
    "\n",
    "type(x)\n",
    "print(x)\n",
    "\n",
    "# for i in range(10):\n",
    "#     print(l[i], end=' ')"
   ]
  },
  {
   "cell_type": "code",
   "execution_count": 6,
   "id": "6db6ef75",
   "metadata": {},
   "outputs": [
    {
     "name": "stdout",
     "output_type": "stream",
     "text": [
      "8000\n"
     ]
    }
   ],
   "source": [
    "array = np.arange(1000)\n",
    "print(array.size*array.itemsize)"
   ]
  },
  {
   "cell_type": "markdown",
   "id": "9c51caaa",
   "metadata": {},
   "source": [
    "Processing time"
   ]
  },
  {
   "cell_type": "code",
   "execution_count": 34,
   "id": "09184951",
   "metadata": {},
   "outputs": [],
   "source": [
    "SIZE = 10\n",
    "\n",
    "l1 = range(SIZE)\n",
    "l2 = range(SIZE)\n"
   ]
  },
  {
   "cell_type": "code",
   "execution_count": 36,
   "id": "33a45606",
   "metadata": {},
   "outputs": [],
   "source": [
    "a1 = np.arange(SIZE)\n",
    "a2 = np.arange(SIZE)"
   ]
  },
  {
   "cell_type": "code",
   "execution_count": 50,
   "id": "d98a187d",
   "metadata": {},
   "outputs": [],
   "source": [
    "begin = time.time()"
   ]
  },
  {
   "cell_type": "code",
   "execution_count": 51,
   "id": "54e1f7f7",
   "metadata": {},
   "outputs": [
    {
     "name": "stdout",
     "output_type": "stream",
     "text": [
      "python list processing:  10.0968599319458\n"
     ]
    }
   ],
   "source": [
    "result = [(x+y) for x, y in zip(l1, l2)]\n",
    "\n",
    "\n",
    "print(\"python list processing: \", (time.time() - begin)*10)"
   ]
  },
  {
   "cell_type": "code",
   "execution_count": 46,
   "id": "10976a30",
   "metadata": {},
   "outputs": [
    {
     "name": "stdout",
     "output_type": "stream",
     "text": [
      "numpy list processing:  0.0008130073547363281\n"
     ]
    }
   ],
   "source": [
    "begin = time.time()\n",
    "\n",
    "result = a1+a2\n",
    "\n",
    "print(\"numpy list processing: \", (time.time() - begin)*10)"
   ]
  },
  {
   "cell_type": "code",
   "execution_count": 52,
   "id": "109e3408",
   "metadata": {},
   "outputs": [
    {
     "name": "stdout",
     "output_type": "stream",
     "text": [
      "[ 0  2  4  6  8 10 12 14 16 18]\n"
     ]
    }
   ],
   "source": [
    "print(a1+a2)"
   ]
  },
  {
   "cell_type": "code",
   "execution_count": 53,
   "id": "ffb5bd95",
   "metadata": {},
   "outputs": [
    {
     "name": "stdout",
     "output_type": "stream",
     "text": [
      "[0 0 0 0 0 0 0 0 0 0]\n"
     ]
    }
   ],
   "source": [
    "print(a1-a2)"
   ]
  },
  {
   "cell_type": "code",
   "execution_count": 54,
   "id": "15490d82",
   "metadata": {},
   "outputs": [
    {
     "name": "stdout",
     "output_type": "stream",
     "text": [
      "[ 0  1  4  9 16 25 36 49 64 81]\n"
     ]
    }
   ],
   "source": [
    "print(a1*a2)"
   ]
  },
  {
   "cell_type": "markdown",
   "id": "f74176f0",
   "metadata": {},
   "source": [
    "## NumPy Array Object "
   ]
  },
  {
   "cell_type": "code",
   "execution_count": 55,
   "id": "df496c3d",
   "metadata": {},
   "outputs": [
    {
     "name": "stdout",
     "output_type": "stream",
     "text": [
      "[5 6 7]\n"
     ]
    }
   ],
   "source": [
    "# One-dimensional\n",
    "\n",
    "arr = np.array([5,6,7])\n",
    "print(arr)"
   ]
  },
  {
   "cell_type": "code",
   "execution_count": null,
   "id": "4a35a551",
   "metadata": {},
   "outputs": [],
   "source": []
  }
 ],
 "metadata": {
  "kernelspec": {
   "display_name": "Python 3",
   "language": "python",
   "name": "python3"
  },
  "language_info": {
   "codemirror_mode": {
    "name": "ipython",
    "version": 3
   },
   "file_extension": ".py",
   "mimetype": "text/x-python",
   "name": "python",
   "nbconvert_exporter": "python",
   "pygments_lexer": "ipython3",
   "version": "3.8.11"
  }
 },
 "nbformat": 4,
 "nbformat_minor": 5
}
