{
 "cells": [
  {
   "cell_type": "code",
   "execution_count": 7,
   "id": "dca2c779-5aaa-4827-b0e2-06470e64ee5f",
   "metadata": {},
   "outputs": [
    {
     "name": "stdout",
     "output_type": "stream",
     "text": [
      "Requirement already satisfied: scikit-learn in /Users/riyapmathew/opt/anaconda3/envs/MachineLearning/lib/python3.8/site-packages (0.24.2)\n",
      "Requirement already satisfied: scipy>=0.19.1 in /Users/riyapmathew/opt/anaconda3/envs/MachineLearning/lib/python3.8/site-packages (from scikit-learn) (1.6.2)\n",
      "Requirement already satisfied: joblib>=0.11 in /Users/riyapmathew/opt/anaconda3/envs/MachineLearning/lib/python3.8/site-packages (from scikit-learn) (1.0.1)\n",
      "Requirement already satisfied: numpy>=1.13.3 in /Users/riyapmathew/opt/anaconda3/envs/MachineLearning/lib/python3.8/site-packages (from scikit-learn) (1.20.3)\n",
      "Requirement already satisfied: threadpoolctl>=2.0.0 in /Users/riyapmathew/opt/anaconda3/envs/MachineLearning/lib/python3.8/site-packages (from scikit-learn) (2.2.0)\n"
     ]
    }
   ],
   "source": [
    "!pip install scikit-learn"
   ]
  },
  {
   "cell_type": "code",
   "execution_count": 8,
   "id": "abfad17c",
   "metadata": {},
   "outputs": [],
   "source": [
    "#Importing Dependancies\n",
    "import pandas as pd\n",
    "import numpy as np\n",
    "import sklearn \n",
    "from sklearn import linear_model\n",
    "from sklearn.utils import shuffle\n",
    "import matplotlib.pyplot as plt\n",
    "from matplotlib import style"
   ]
  },
  {
   "cell_type": "code",
   "execution_count": 10,
   "id": "af2b24a1",
   "metadata": {},
   "outputs": [
    {
     "name": "stdout",
     "output_type": "stream",
     "text": [
      "     G1  G2  G3  failures  absences\n",
      "0     5   6   6         0         6\n",
      "1     5   5   6         0         4\n",
      "2     7   8  10         3        10\n",
      "3    15  14  15         0         2\n",
      "4     6  10  10         0         4\n",
      "..   ..  ..  ..       ...       ...\n",
      "390   9   9   9         2        11\n",
      "391  14  16  16         0         3\n",
      "392  10   8   7         3         3\n",
      "393  11  12  10         0         0\n",
      "394   8   9   9         0         5\n",
      "\n",
      "[395 rows x 5 columns]\n"
     ]
    }
   ],
   "source": [
    "student_dataset = pd.read_csv('dataset/student-mat.csv',sep=';')\n",
    "student_dataset = student_dataset[['G1','G2','G3','failures','absences']]\n",
    "print(student_dataset)"
   ]
  },
  {
   "cell_type": "code",
   "execution_count": 11,
   "id": "2b97bb10",
   "metadata": {},
   "outputs": [
    {
     "name": "stderr",
     "output_type": "stream",
     "text": [
      "<ipython-input-11-a5fc91da27c5>:2: FutureWarning: In a future version of pandas all arguments of DataFrame.drop except for the argument 'labels' will be keyword-only\n",
      "  X = np.array(student_dataset.drop([predict],1))\n"
     ]
    }
   ],
   "source": [
    "predict = \"G3\"\n",
    "X = np.array(student_dataset.drop([predict],1))\n",
    "y = np.array(student_dataset[predict])"
   ]
  },
  {
   "cell_type": "code",
   "execution_count": 14,
   "id": "93733b67",
   "metadata": {},
   "outputs": [
    {
     "name": "stdout",
     "output_type": "stream",
     "text": [
      "ULTRON'S Accuracy at 92.35994595502072%\n"
     ]
    }
   ],
   "source": [
    "x_train, x_test, y_train, y_test = sklearn.model_selection.train_test_split(X , y , test_size= 0.1)\n",
    "Ultron = linear_model.LinearRegression()\n",
    "Ultron.fit(x_train,y_train)\n",
    "accuracy = Ultron.score(x_test,y_test)\n",
    "print(\"ULTRON'S Accuracy at \"+str(accuracy*100)+\"%\")"
   ]
  },
  {
   "cell_type": "code",
   "execution_count": 15,
   "id": "69b5358a",
   "metadata": {},
   "outputs": [
    {
     "name": "stdout",
     "output_type": "stream",
     "text": [
      "Coefficients :  [ 0.15469008  0.97596457 -0.30292241  0.03853545]\n",
      "Intercept :  -1.8957191489011933\n"
     ]
    }
   ],
   "source": [
    "print(\"Coefficients : \",Ultron.coef_)\n",
    "print(\"Intercept : \",Ultron.intercept_)"
   ]
  },
  {
   "cell_type": "code",
   "execution_count": 16,
   "id": "9f408f34",
   "metadata": {},
   "outputs": [
    {
     "name": "stdout",
     "output_type": "stream",
     "text": [
      "ULTRON's Predicted G3 -  7.970792536442266 . Actual G3 -  8 .\n",
      "ULTRON's Predicted G3 -  15.063552330401631 . Actual G3 -  15 .\n",
      "ULTRON's Predicted G3 -  5.891227065840993 . Actual G3 -  7 .\n",
      "ULTRON's Predicted G3 -  6.3178217307819455 . Actual G3 -  10 .\n",
      "ULTRON's Predicted G3 -  5.197040645058173 . Actual G3 -  6 .\n",
      "ULTRON's Predicted G3 -  12.879862207456082 . Actual G3 -  13 .\n",
      "ULTRON's Predicted G3 -  10.463862824673459 . Actual G3 -  11 .\n",
      "ULTRON's Predicted G3 -  12.26701136164988 . Actual G3 -  13 .\n",
      "ULTRON's Predicted G3 -  14.90941051950449 . Actual G3 -  15 .\n",
      "ULTRON's Predicted G3 -  12.212729533568968 . Actual G3 -  13 .\n",
      "ULTRON's Predicted G3 -  18.146684387071367 . Actual G3 -  18 .\n",
      "ULTRON's Predicted G3 -  18.30137446971419 . Actual G3 -  18 .\n",
      "ULTRON's Predicted G3 -  12.725172124813259 . Actual G3 -  13 .\n",
      "ULTRON's Predicted G3 -  12.752225871708966 . Actual G3 -  13 .\n",
      "ULTRON's Predicted G3 -  12.492862864976187 . Actual G3 -  14 .\n",
      "ULTRON's Predicted G3 -  10.849765623661995 . Actual G3 -  10 .\n",
      "ULTRON's Predicted G3 -  10.663546116551332 . Actual G3 -  11 .\n",
      "ULTRON's Predicted G3 -  8.511385418073623 . Actual G3 -  10 .\n",
      "ULTRON's Predicted G3 -  7.689562661543688 . Actual G3 -  8 .\n",
      "ULTRON's Predicted G3 -  5.567160394935494 . Actual G3 -  9 .\n",
      "ULTRON's Predicted G3 -  14.986481424953062 . Actual G3 -  15 .\n",
      "ULTRON's Predicted G3 -  15.604145212032986 . Actual G3 -  15 .\n",
      "ULTRON's Predicted G3 -  9.410827351797812 . Actual G3 -  10 .\n",
      "ULTRON's Predicted G3 -  8.434314512625052 . Actual G3 -  10 .\n",
      "ULTRON's Predicted G3 -  17.17071981964429 . Actual G3 -  17 .\n",
      "ULTRON's Predicted G3 -  11.439827392100538 . Actual G3 -  12 .\n",
      "ULTRON's Predicted G3 -  4.2199795341397355 . Actual G3 -  5 .\n",
      "ULTRON's Predicted G3 -  14.319348751065949 . Actual G3 -  14 .\n",
      "ULTRON's Predicted G3 -  12.802791302007511 . Actual G3 -  14 .\n",
      "ULTRON's Predicted G3 -  10.618004635570601 . Actual G3 -  11 .\n",
      "ULTRON's Predicted G3 -  10.54148200186771 . Actual G3 -  10 .\n",
      "ULTRON's Predicted G3 -  18.610754634999836 . Actual G3 -  19 .\n",
      "ULTRON's Predicted G3 -  18.687277268702726 . Actual G3 -  18 .\n",
      "ULTRON's Predicted G3 -  10.54148200186771 . Actual G3 -  10 .\n",
      "ULTRON's Predicted G3 -  12.725172124813259 . Actual G3 -  12 .\n",
      "ULTRON's Predicted G3 -  -0.19412823983014893 . Actual G3 -  0 .\n",
      "ULTRON's Predicted G3 -  8.974907394256409 . Actual G3 -  10 .\n",
      "ULTRON's Predicted G3 -  8.434862784370733 . Actual G3 -  9 .\n",
      "ULTRON's Predicted G3 -  9.410279080052131 . Actual G3 -  10 .\n",
      "ULTRON's Predicted G3 -  9.332659902857879 . Actual G3 -  10 .\n"
     ]
    }
   ],
   "source": [
    "predictions = Ultron.predict(x_test)\n",
    "for i in range(len(predictions)):\n",
    "    print(\"ULTRON's Predicted G3 - \",predictions[i],\". Actual G3 - \",y_test[i],\".\")"
   ]
  },
  {
   "cell_type": "code",
   "execution_count": 17,
   "id": "ecd829c5",
   "metadata": {},
   "outputs": [
    {
     "data": {
      "image/png": "[encoded data removed]",
      "text/plain": [
       "<Figure size 432x288 with 1 Axes>"
      ]
     },
     "metadata": {},
     "output_type": "display_data"
    }
   ],
   "source": [
    "style.use(\"ggplot\")\n",
    "plt.scatter(student_dataset['absences'],student_dataset['G3'])\n",
    "plt.xlabel('Absences')\n",
    "plt.ylabel('Final G3')\n",
    "plt.show()"
   ]
  },
  {
   "cell_type": "code",
   "execution_count": 21,
   "id": "979000ee-db16-47f3-991c-89215b0e22d4",
   "metadata": {},
   "outputs": [],
   "source": [
    "import pickle\n"
   ]
  },
  {
   "cell_type": "code",
   "execution_count": 23,
   "id": "d9a086e3-8ca7-4134-a87b-e8fe4b4754a0",
   "metadata": {},
   "outputs": [],
   "source": [
    "with open('model_pickle','wb') as f:\n",
    "    pickle.dump(Ultron, f)"
   ]
  },
  {
   "cell_type": "code",
   "execution_count": 24,
   "id": "59406286-825f-49cf-830e-5e8f9a8a5aaa",
   "metadata": {},
   "outputs": [],
   "source": [
    "with open('model_pickle','rb') as file:\n",
    "    ultron = pickle.load(file)"
   ]
  },
  {
   "cell_type": "code",
   "execution_count": 34,
   "id": "7a937f67-4fc2-4b66-90de-68b6970c9b8d",
   "metadata": {},
   "outputs": [
    {
     "name": "stdout",
     "output_type": "stream",
     "text": [
      "Predicted value : [10.46386282] , Actual Value : [10.46386282]  11\n"
     ]
    }
   ],
   "source": [
    "print(\"Predicted value : {0} , Actual Value : {0} \".format(Ultron.predict(x_test[[6]])), y_test[6])"
   ]
  },
  {
   "cell_type": "code",
   "execution_count": 38,
   "id": "d748da87-1228-4b05-8813-abbe46f1d90d",
   "metadata": {},
   "outputs": [],
   "source": [
    "from joblib import dump, load"
   ]
  },
  {
   "cell_type": "code",
   "execution_count": 40,
   "id": "5f869a4d-78bd-44a4-a383-c66d52eae2d8",
   "metadata": {},
   "outputs": [
    {
     "data": {
      "text/plain": [
       "['revised_model']"
      ]
     },
     "execution_count": 40,
     "metadata": {},
     "output_type": "execute_result"
    }
   ],
   "source": [
    "dump(Ultron, 'revised_model')"
   ]
  },
  {
   "cell_type": "code",
   "execution_count": null,
   "id": "54d64445-7ffc-45d0-ae35-a3bfb50e45d1",
   "metadata": {},
   "outputs": [],
   "source": []
  }
 ],
 "metadata": {
  "kernelspec": {
   "display_name": "Python 3",
   "language": "python",
   "name": "python3"
  },
  "language_info": {
   "codemirror_mode": {
    "name": "ipython",
    "version": 3
   },
   "file_extension": ".py",
   "mimetype": "text/x-python",
   "name": "python",
   "nbconvert_exporter": "python",
   "pygments_lexer": "ipython3",
   "version": "3.8.11"
  }
 },
 "nbformat": 4,
 "nbformat_minor": 5
}
