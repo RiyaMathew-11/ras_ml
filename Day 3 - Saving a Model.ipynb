{
 "cells": [
  {
   "cell_type": "code",
   "execution_count": 6,
   "metadata": {},
   "outputs": [],
   "source": [
    "#Importing Dependancies\n",
    "import pandas as pd\n",
    "import numpy as np\n",
    "import sklearn \n",
    "from sklearn import linear_model\n",
    "from sklearn.utils import shuffle\n",
    "import matplotlib.pyplot as plt\n",
    "from matplotlib import style\n",
    "import pickle"
   ]
  },
  {
   "cell_type": "code",
   "execution_count": 3,
   "metadata": {},
   "outputs": [
    {
     "name": "stdout",
     "output_type": "stream",
     "text": [
      "     G1  G2  G3  failures  absences\n",
      "0     5   6   6         0         6\n",
      "1     5   5   6         0         4\n",
      "2     7   8  10         3        10\n",
      "3    15  14  15         0         2\n",
      "4     6  10  10         0         4\n",
      "..   ..  ..  ..       ...       ...\n",
      "390   9   9   9         2        11\n",
      "391  14  16  16         0         3\n",
      "392  10   8   7         3         3\n",
      "393  11  12  10         0         0\n",
      "394   8   9   9         0         5\n",
      "\n",
      "[395 rows x 5 columns]\n"
     ]
    }
   ],
   "source": [
    "student_dataset = pd.read_csv('student-mat.csv',sep=';')\n",
    "student_dataset = student_dataset[['G1','G2','G3','failures','absences']]\n",
    "print(student_dataset)"
   ]
  },
  {
   "cell_type": "code",
   "execution_count": 4,
   "metadata": {},
   "outputs": [],
   "source": [
    "predict = \"G3\"\n",
    "X = np.array(student_dataset.drop([predict],axis =1))\n",
    "y = np.array(student_dataset[predict])"
   ]
  },
  {
   "cell_type": "code",
   "execution_count": 24,
   "metadata": {},
   "outputs": [
    {
     "data": {
      "text/plain": [
       "'\\nbest_acc = 0\\nfor i in range(10000):\\n    x_train, x_test, y_train, y_test = sklearn.model_selection.train_test_split(X , y , test_size= 0.1)\\n    Ultron = linear_model.LinearRegression()\\n    Ultron.fit(x_train,y_train)\\n    accuracy = Ultron.score(x_test,y_test)\\n    if(accuracy>best_acc):\\n        best_acc=accuracy\\n        with open(\\'Ultron_Model.pickle\\',\\'wb\\') as f:\\n            pickle.dump(Ultron, f)\\nprint(\"The Best Accuracy is : \",best_acc*100)\\n'"
      ]
     },
     "execution_count": 24,
     "metadata": {},
     "output_type": "execute_result"
    }
   ],
   "source": [
    "best_acc = 0\n",
    "for i in range(10000):\n",
    "    x_train, x_test, y_train, y_test = sklearn.model_selection.train_test_split(X , y , test_size= 0.1)\n",
    "    Ultron = linear_model.LinearRegression()\n",
    "    Ultron.fit(x_train,y_train)\n",
    "    accuracy = Ultron.score(x_test,y_test)\n",
    "    if(accuracy>best_acc):\n",
    "        best_acc=accuracy\n",
    "        with open('Ultron_Model.pickle','wb') as f:\n",
    "            pickle.dump(Ultron, f)\n",
    "print(\"The Best Accuracy is : \",best_acc*100)"
   ]
  },
  {
   "cell_type": "code",
   "execution_count": 25,
   "metadata": {},
   "outputs": [],
   "source": [
    "pickle_in = open('Ultron_Model.pickle','rb')\n",
    "Ultron = pickle.load(pickle_in)"
   ]
  },
  {
   "cell_type": "code",
   "execution_count": 26,
   "metadata": {},
   "outputs": [
    {
     "name": "stdout",
     "output_type": "stream",
     "text": [
      "Coefficients :  [ 0.14811804  0.98758744 -0.2432344   0.04012827]\n",
      "Intercept :  -1.9597382154415257\n"
     ]
    }
   ],
   "source": [
    "print(\"Coefficients : \",Ultron.coef_)\n",
    "print(\"Intercept : \",Ultron.intercept_)"
   ]
  },
  {
   "cell_type": "code",
   "execution_count": 27,
   "metadata": {},
   "outputs": [
    {
     "name": "stdout",
     "output_type": "stream",
     "text": [
      "ULTRON's Predicted G3 -  12.656315021104591 . Actual G3 -  13 .\n",
      "ULTRON's Predicted G3 -  12.884689607124335 . Actual G3 -  13 .\n",
      "ULTRON's Predicted G3 -  12.656315021104591 . Actual G3 -  14 .\n",
      "ULTRON's Predicted G3 -  6.7420187460516345 . Actual G3 -  8 .\n",
      "ULTRON's Predicted G3 -  16.291806055232776 . Actual G3 -  17 .\n",
      "ULTRON's Predicted G3 -  13.792020503807407 . Actual G3 -  14 .\n",
      "ULTRON's Predicted G3 -  7.527188383327385 . Actual G3 -  8 .\n",
      "ULTRON's Predicted G3 -  13.21811085310955 . Actual G3 -  12 .\n",
      "ULTRON's Predicted G3 -  15.223962063691147 . Actual G3 -  15 .\n",
      "ULTRON's Predicted G3 -  15.223962063691147 . Actual G3 -  15 .\n",
      "ULTRON's Predicted G3 -  11.74898412442152 . Actual G3 -  11 .\n",
      "ULTRON's Predicted G3 -  10.533022094289429 . Actual G3 -  10 .\n",
      "ULTRON's Predicted G3 -  9.101080534405686 . Actual G3 -  12 .\n",
      "ULTRON's Predicted G3 -  11.289770193875652 . Actual G3 -  12 .\n",
      "ULTRON's Predicted G3 -  12.205733296461007 . Actual G3 -  13 .\n",
      "ULTRON's Predicted G3 -  12.19039513528256 . Actual G3 -  13 .\n",
      "ULTRON's Predicted G3 -  5.408614999685973 . Actual G3 -  0 .\n",
      "ULTRON's Predicted G3 -  15.53259319714017 . Actual G3 -  16 .\n",
      "ULTRON's Predicted G3 -  11.344758282364772 . Actual G3 -  11 .\n",
      "ULTRON's Predicted G3 -  13.643902465216943 . Actual G3 -  15 .\n",
      "ULTRON's Predicted G3 -  -1.0710299838987445 . Actual G3 -  0 .\n",
      "ULTRON's Predicted G3 -  10.481258348285861 . Actual G3 -  11 .\n",
      "ULTRON's Predicted G3 -  8.58263731860092 . Actual G3 -  9 .\n",
      "ULTRON's Predicted G3 -  13.687536318992334 . Actual G3 -  11 .\n",
      "ULTRON's Predicted G3 -  12.884689607124335 . Actual G3 -  11 .\n",
      "ULTRON's Predicted G3 -  8.489985714903542 . Actual G3 -  9 .\n",
      "ULTRON's Predicted G3 -  9.23187399971529 . Actual G3 -  10 .\n",
      "ULTRON's Predicted G3 -  9.261593629264246 . Actual G3 -  9 .\n",
      "ULTRON's Predicted G3 -  8.58263731860092 . Actual G3 -  10 .\n",
      "ULTRON's Predicted G3 -  12.804433059695056 . Actual G3 -  14 .\n",
      "ULTRON's Predicted G3 -  18.803986662926246 . Actual G3 -  18 .\n",
      "ULTRON's Predicted G3 -  10.829258171470356 . Actual G3 -  10 .\n",
      "ULTRON's Predicted G3 -  7.650516309381656 . Actual G3 -  8 .\n",
      "ULTRON's Predicted G3 -  6.1383182020686355 . Actual G3 -  8 .\n",
      "ULTRON's Predicted G3 -  11.600866085831058 . Actual G3 -  11 .\n",
      "ULTRON's Predicted G3 -  12.748966624801968 . Actual G3 -  14 .\n",
      "ULTRON's Predicted G3 -  11.989753766709361 . Actual G3 -  12 .\n",
      "ULTRON's Predicted G3 -  13.792020503807407 . Actual G3 -  15 .\n",
      "ULTRON's Predicted G3 -  7.672841663411468 . Actual G3 -  7 .\n",
      "ULTRON's Predicted G3 -  11.452748047240593 . Actual G3 -  12 .\n"
     ]
    }
   ],
   "source": [
    "predictions = Ultron.predict(x_test)\n",
    "for i in range(len(predictions)):\n",
    "    print(\"ULTRON's Predicted G3 - \",predictions[i],\". Actual G3 - \",y_test[i],\".\")"
   ]
  },
  {
   "cell_type": "code",
   "execution_count": 20,
   "metadata": {},
   "outputs": [
    {
     "data": {
      "image/png": "[encoded data removed]",
      "text/plain": [
       "<Figure size 432x288 with 1 Axes>"
      ]
     },
     "metadata": {},
     "output_type": "display_data"
    }
   ],
   "source": [
    "style.use(\"ggplot\")\n",
    "plt.scatter(student_dataset['absences'],student_dataset['G3'])\n",
    "plt.xlabel('Absences')\n",
    "plt.ylabel('Final G3')\n",
    "plt.show()"
   ]
  },
  {
   "cell_type": "code",
   "execution_count": null,
   "metadata": {},
   "outputs": [],
   "source": []
  }
 ],
 "metadata": {
  "kernelspec": {
   "display_name": "Python 3",
   "language": "python",
   "name": "python3"
  },
  "language_info": {
   "codemirror_mode": {
    "name": "ipython",
    "version": 3
   },
   "file_extension": ".py",
   "mimetype": "text/x-python",
   "name": "python",
   "nbconvert_exporter": "python",
   "pygments_lexer": "ipython3",
   "version": "3.7.6"
  }
 },
 "nbformat": 4,
 "nbformat_minor": 5
}
